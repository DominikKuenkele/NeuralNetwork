{
 "cells": [
  {
   "cell_type": "code",
   "execution_count": 223,
   "metadata": {
    "collapsed": true
   },
   "outputs": [],
   "source": [
    "# Import libraries\n",
    "\n",
    "import numpy\n",
    "import matplotlib.pyplot\n",
    "import scipy.special\n",
    "from datetime import datetime\n",
    "import csv\n",
    "import os\n",
    "from PIL import Image\n",
    "%matplotlib inline"
   ]
  },
  {
   "cell_type": "code",
   "execution_count": 224,
   "metadata": {},
   "outputs": [],
   "source": [
    "# constants\n",
    "\n",
    "SIZE_OF_IMG = 28\n",
    "\n",
    "LETTERS = ['O', 'I']\n",
    "#LETTERS = ['A', 'B', 'C', 'D', 'E']\n",
    "# LETTERS = ['0', '1', '2', '3', '4', '5', '6', '7', '8', '9']\n",
    "#LETTERS = ['A', 'B', 'C', 'D', 'E', 'F', 'G', 'H', 'I', 'J', 'K', 'L', 'M', 'N', 'O', 'P', 'Q', 'R', 'S', 'T', 'U', 'V',\n",
    "#           'W', 'X', 'Y', 'Z']\n",
    "\n",
    "SRC_PATH = \"C:\\Users\\domin\\Downloads\\gzip\\\\byclass\\\\\"\n",
    "PATH_SEPARATOR = \"\\\\\""
   ]
  },
  {
   "cell_type": "code",
   "execution_count": 225,
   "metadata": {},
   "outputs": [],
   "source": [
    "# Class for Neural Network\n",
    "\n",
    "\n",
    "class NeuralNetwork:\n",
    "    def __init__(self, learningRate, inputNodes, hiddenNodes, outputNodes):\n",
    "        self.iNodes = inputNodes\n",
    "        self.hNodes = hiddenNodes\n",
    "        self.oNodes = outputNodes\n",
    "        self.lr = learningRate\n",
    "\n",
    "        self.wih = numpy.random.normal(0.0, pow(self.hNodes, -0.5), (self.hNodes, self.iNodes))\n",
    "        self.who = numpy.random.normal(0.0, pow(self.oNodes, -0.5), (self.oNodes, self.hNodes))\n",
    "\n",
    "        self.activationFunction = lambda x: scipy.special.expit(x)\n",
    "        self.inverse_activation_function = lambda x: scipy.special.logit(x)\n",
    "\n",
    "\n",
    "        pass\n",
    "\n",
    "    def train(self, inputList, targetList):\n",
    "        inputs = numpy.array(inputList, ndmin=2).T\n",
    "        targets = numpy.array(targetList, ndmin=2).T\n",
    "\n",
    "        hiddenInputs = numpy.dot(self.wih, inputs)\n",
    "        hiddenOutputs = self.activationFunction(hiddenInputs)\n",
    "        finalInputs = numpy.dot(self.who, hiddenInputs)\n",
    "        finalOutputs = self.activationFunction(finalInputs)\n",
    "\n",
    "        outputErrors = targets - finalOutputs\n",
    "        hiddenErrors = numpy.dot(self.who.T, outputErrors)\n",
    "\n",
    "        self.who += self.lr * numpy.dot((outputErrors * finalOutputs * (1.0 - finalOutputs)), numpy.transpose(hiddenOutputs))\n",
    "        self.wih += self.lr * numpy.dot((hiddenErrors * hiddenOutputs * (1.0 - hiddenOutputs)), numpy.transpose(inputs))\n",
    "\n",
    "        pass\n",
    "\n",
    "    def query(self, inputList):\n",
    "        inputs = numpy.array(inputList, ndmin=2).T\n",
    "        hiddenInputs = numpy.dot(self.wih, inputs)\n",
    "        hiddenOutputs = self.activationFunction(hiddenInputs)\n",
    "        finalInputs = numpy.dot(self.who, hiddenInputs)\n",
    "        finalOutputs = self.activationFunction(finalInputs)\n",
    "        \n",
    "        return finalOutputs\n",
    "    \n",
    "    def backquery(self, targets_list):\n",
    "        # transpose the targets list to a vertical array\n",
    "        final_outputs = numpy.array(targets_list, ndmin=2).T\n",
    "        \n",
    "        # calculate the signal into the final output layer\n",
    "        final_inputs = self.inverse_activation_function(final_outputs)\n",
    "\n",
    "        # calculate the signal out of the hidden layer\n",
    "        hidden_outputs = numpy.dot(self.who.T, final_inputs)\n",
    "        # scale them back to 0.01 to .99\n",
    "        hidden_outputs -= numpy.min(hidden_outputs)\n",
    "        hidden_outputs /= numpy.max(hidden_outputs)\n",
    "        hidden_outputs *= 0.98\n",
    "        hidden_outputs += 0.01\n",
    "        \n",
    "        # calculate the signal into the hidden layer\n",
    "        hidden_inputs = self.inverse_activation_function(hidden_outputs)\n",
    "        \n",
    "        # calculate the signal out of the input layer\n",
    "        inputs = numpy.dot(self.wih.T, hidden_inputs)\n",
    "        # scale them back to 0.01 to .99\n",
    "        inputs -= numpy.min(inputs)\n",
    "        inputs /= numpy.max(inputs)\n",
    "        inputs *= 0.98\n",
    "        inputs += 0.01\n",
    "        \n",
    "        return inputs"
   ]
  },
  {
   "cell_type": "code",
   "execution_count": 226,
   "metadata": {},
   "outputs": [],
   "source": [
    "# fetch path\n",
    "\n",
    "# create array with 'len(letters)' fields\n",
    "decLetter = {}\n",
    "for letter in LETTERS:\n",
    "    decLetter[letter] = str(ord(letter))\n",
    "    pass\n",
    "\n",
    "mappingKey = {}\n",
    "textDataStream = open(SRC_PATH + \"emnist-byclass-mapping.txt\")\n",
    "for line in textDataStream:\n",
    "    splittedLine = line.split(\" \")\n",
    "    mappingKey[splittedLine[1].replace(\"\\n\", \"\")] = splittedLine[0]\n",
    "    pass"
   ]
  },
  {
   "cell_type": "code",
   "execution_count": 227,
   "metadata": {
    "collapsed": false
   },
   "outputs": [],
   "source": [
    "# Training instance of Neural Network\n",
    "\n",
    "\n",
    "class Training:\n",
    "        \n",
    "    startTime = 0\n",
    "    endTime = 0\n",
    "    duration = 0\n",
    "    \n",
    "    SIZE_OF_TRAINING_DATASET = 0\n",
    "    EPOCHS = 0\n",
    "    \n",
    "    DIR_TRAINING = SRC_PATH + \"training\\\\\"\n",
    "    \n",
    "    def __init__(self, size_of_dataset, epochs=1):\n",
    "        self.SIZE_OF_TRAINING_DATASET = size_of_dataset\n",
    "        self.EPOCHS = epochs\n",
    "        pass\n",
    "    \n",
    "    def start(self):\n",
    "        self.startTime = datetime.utcnow()\n",
    "        targetArray = numpy.eye(len(LETTERS), len(LETTERS)) * 0.99\n",
    "        imageNames = {}\n",
    "        for letter in LETTERS:\n",
    "            imageNames[letter] = os.listdir(self.DIR_TRAINING + mappingKey[decLetter[letter]] + PATH_SEPARATOR)\n",
    "            pass\n",
    "        \n",
    "        for epoch in range(self.EPOCHS):\n",
    "            for iteration in range(self.SIZE_OF_TRAINING_DATASET):\n",
    "                for letterI in range(len(LETTERS)):\n",
    "                    path = self.DIR_TRAINING + mappingKey[decLetter[LETTERS[letterI]]] + PATH_SEPARATOR + imageNames[LETTERS[letterI]][iteration]\n",
    "                    im = Image.open(path)\n",
    "                            \n",
    "                    inputArray = numpy.zeros([SIZE_OF_IMG * SIZE_OF_IMG])\n",
    "                    for y in range(SIZE_OF_IMG):\n",
    "                        for x in range(SIZE_OF_IMG):\n",
    "                            px = im.getpixel((y, x))\n",
    "                            inputArray[(y * SIZE_OF_IMG) + x] = (float(px) / 255 * 0.99) + 0.01\n",
    "                            pass\n",
    "                        pass\n",
    "                    \n",
    "                    neuralNetwork.train(inputArray, targetArray[:, letterI])\n",
    "                    pass\n",
    "#                print(\"Epoche: \" + str(epoch) + \"\\tIteration: \" + str(iteration))\n",
    "    #           print(datetime.utcnow().strftime('%Y-%m-%d %H:%M:%S:.%f')[:-3] + \": After training the cycle \\n\")\n",
    "                pass\n",
    "            pass\n",
    "        self.endTime = datetime.utcnow()\n",
    "        self.duration = self.endTime - self.startTime\n",
    "        pass\n"
   ]
  },
  {
   "cell_type": "code",
   "execution_count": 228,
   "metadata": {
    "collapsed": false
   },
   "outputs": [],
   "source": [
    "# Testing instance of Neural Network\n",
    "\n",
    "\n",
    "class Testing:\n",
    "    \n",
    "    \n",
    "    startTime = 0\n",
    "    endTime = 0\n",
    "    duration = 0\n",
    "    \n",
    "    scorecard = []\n",
    "    \n",
    "    SIZE_OF_TEST_DATASET = 0\n",
    "    \n",
    "    DIR_TEST = SRC_PATH + \"testing\\\\\"\n",
    "    \n",
    "    def __init__(self, size_of_dataset):\n",
    "        self.SIZE_OF_TEST_DATASET = size_of_dataset\n",
    "        pass\n",
    "    \n",
    "    def start(self):    \n",
    "        self.startTime = datetime.utcnow()\n",
    "        imageNames = {}\n",
    "        for letter in LETTERS:\n",
    "            imageNames[letter] = os.listdir(self.DIR_TEST + mappingKey[decLetter[letter]] + PATH_SEPARATOR)\n",
    "            pass\n",
    "        \n",
    "        for iteration in range(self.SIZE_OF_TEST_DATASET):\n",
    "            for letterI in range(len(LETTERS)):\n",
    "                path = self.DIR_TEST + mappingKey[decLetter[LETTERS[letterI]]] + PATH_SEPARATOR + imageNames[LETTERS[letterI]][iteration]\n",
    "                im = Image.open(path)\n",
    "                        \n",
    "                inputArray = numpy.zeros([SIZE_OF_IMG * SIZE_OF_IMG])\n",
    "                for y in range(SIZE_OF_IMG):\n",
    "                    for x in range(SIZE_OF_IMG):\n",
    "                        px = im.getpixel((y, x))\n",
    "                        inputArray[(y * SIZE_OF_IMG) + x] = (float(px) / 255 * 0.99) + 0.01\n",
    "                        pass\n",
    "                    pass\n",
    "        \n",
    "                output = neuralNetwork.query(inputArray)\n",
    "                label = numpy.argmax(output)\n",
    "                if label == letterI:\n",
    "                    self.scorecard.append(1)\n",
    "                else: \n",
    "                    self.scorecard.append(0)\n",
    "                    pass\n",
    "                pass\n",
    "            pass\n",
    "        self.endTime = datetime.utcnow()\n",
    "        self.duration = self.endTime - self.startTime\n",
    "        pass\n",
    "    \n",
    "    def getPerformance(self):\n",
    "        scorecard_array = numpy.asarray(self.scorecard)\n",
    "        return float(scorecard_array.sum()) / float(scorecard_array.size)"
   ]
  },
  {
   "cell_type": "code",
   "execution_count": 229,
   "metadata": {},
   "outputs": [],
   "source": [
    "# Class for monitoring Neural Network\n",
    "\n",
    "\n",
    "class Monitor:\n",
    "    \n",
    "    neuralNetwork = None\n",
    "    training = None\n",
    "    testing = None\n",
    "    \n",
    "    PATH = \"\\\\log\\\\\"\n",
    "        \n",
    "    def __init__(self, neuralNetwork=NeuralNetwork, training=Training, testing=Testing):\n",
    "        self.neuralNetwork = neuralNetwork\n",
    "        self.training = training\n",
    "        self.testing = testing\n",
    "        pass\n",
    "    \n",
    "    def writeLog(self):\n",
    "        file = open(SRC_PATH + self.PATH + \"logfile_001.csv\", \"a\")\n",
    "        writer = csv.writer(file, delimiter=\";\")\n",
    "        writer.writerow([self.neuralNetwork.lr,\n",
    "                        self.training.SIZE_OF_TRAINING_DATASET,\n",
    "                        self.testing.SIZE_OF_TEST_DATASET,\n",
    "                        self.training.EPOCHS,\n",
    "                        self.neuralNetwork.iNodes,\n",
    "                        self.neuralNetwork.hNodes,\n",
    "                        self.neuralNetwork.oNodes,\n",
    "                        len(LETTERS),\n",
    "                        self.testing.getPerformance(),\n",
    "                        self.training.startTime.strftime('%Y-%m-%d %H:%M:%S:.%f')[:-3],\n",
    "                        self.training.endTime.strftime('%Y-%m-%d %H:%M:%S:.%f')[:-3],\n",
    "                        self.training.duration,\n",
    "                        self.testing.startTime.strftime('%Y-%m-%d %H:%M:%S:.%f')[:-3],\n",
    "                        self.testing.endTime.strftime('%Y-%m-%d %H:%M:%S:.%f')[:-3],\n",
    "                        self.testing.duration,\n",
    "                        self.training.duration + self.testing.duration])\n",
    "        file.close()\n",
    "        pass"
   ]
  },
  {
   "cell_type": "code",
   "execution_count": 230,
   "metadata": {
    "collapsed": true
   },
   "outputs": [
    {
     "name": "stdout",
     "output_type": "stream",
     "text": [
      "2018-05-20 22:33:21:.275\n"
     ]
    },
    {
     "name": "stdout",
     "output_type": "stream",
     "text": [
      "Performance: 0.994736842105\nDuration: 0:00:37.442000\n"
     ]
    }
   ],
   "source": [
    "# Creating instance of Neural Network\n",
    "\n",
    "inputNodes = SIZE_OF_IMG * SIZE_OF_IMG\n",
    "hiddenNodes = 400\n",
    "outputNodes = len(LETTERS)\n",
    "learningrate = 0.1\n",
    "\n",
    "sizeOfTrainingDataset = 2460\n",
    "epochs = 1\n",
    "\n",
    "sizeOfTestDataset = 380\n",
    "\n",
    "print(datetime.utcnow().strftime('%Y-%m-%d %H:%M:%S:.%f')[:-3])\n",
    "\n",
    "neuralNetwork = NeuralNetwork(learningrate, inputNodes, hiddenNodes, outputNodes)\n",
    "\n",
    "training = Training(sizeOfTrainingDataset, epochs)\n",
    "training.start()\n",
    "\n",
    "testing = Testing(sizeOfTestDataset)\n",
    "testing.start()\n",
    "\n",
    "monitor = Monitor(neuralNetwork, training, testing)\n",
    "monitor.writeLog()\n",
    "\n",
    "print(\"Performance: \" + str(testing.getPerformance()))\n",
    "print(\"Duration: \" + str(testing.duration + training.duration))"
   ]
  },
  {
   "cell_type": "code",
   "execution_count": 231,
   "metadata": {},
   "outputs": [
    {
     "data": {
      "text/plain": [
       "<matplotlib.image.AxesImage at 0x115d56d8>"
      ]
     },
     "execution_count": 231,
     "metadata": {},
     "output_type": "execute_result"
    },
    {
     "data": {
      "image/png": "[encoded data removed]",
      "text/plain": [
       "<matplotlib.figure.Figure at 0x10e06d30>"
      ]
     },
     "metadata": {},
     "output_type": "display_data"
    }
   ],
   "source": [
    "targetArray = (numpy.eye(len(LETTERS), len(LETTERS)) * 0.98) + 0.01\n",
    "inputsArray = neuralNetwork.backquery(targetArray[:, 0])\n",
    "matplotlib.pyplot.imshow(inputsArray.reshape(28, 28), cmap=\"Greys\", interpolation=\"None\")\n",
    "\n"
   ]
  },
  {
   "cell_type": "code",
   "execution_count": 232,
   "metadata": {},
   "outputs": [
    {
     "data": {
      "text/plain": [
       "<matplotlib.image.AxesImage at 0x10e201d0>"
      ]
     },
     "execution_count": 232,
     "metadata": {},
     "output_type": "execute_result"
    },
    {
     "data": {
      "image/png": "[encoded data removed]",
      "text/plain": [
       "<matplotlib.figure.Figure at 0xdd2e898>"
      ]
     },
     "metadata": {},
     "output_type": "display_data"
    }
   ],
   "source": [
    "inputsArray2 = neuralNetwork.backquery(targetArray[1, :])\n",
    "matplotlib.pyplot.imshow(inputsArray2.reshape(28, 28), cmap=\"Greys\", interpolation=\"None\")\n"
   ]
  },
  {
   "cell_type": "code",
   "execution_count": 239,
   "metadata": {},
   "outputs": [
    {
     "data": {
      "text/plain": [
       "<matplotlib.image.AxesImage at 0x11930b38>"
      ]
     },
     "execution_count": 239,
     "metadata": {},
     "output_type": "execute_result"
    },
    {
     "data": {
      "image/png": "[encoded data removed]",
      "text/plain": [
       "<matplotlib.figure.Figure at 0x119c5b70>"
      ]
     },
     "metadata": {},
     "output_type": "display_data"
    }
   ],
   "source": [
    "inputsArray = neuralNetwork.backquery(targetArray[:, 0])\n",
    "matplotlib.pyplot.imshow(inputsArray.reshape(28, 28), cmap=\"Greys\", interpolation=\"None\")\n"
   ]
  },
  {
   "cell_type": "code",
   "execution_count": 234,
   "metadata": {},
   "outputs": [
    {
     "ename": "IndexError",
     "evalue": "index 3 is out of bounds for axis 1 with size 2",
     "traceback": [
      "\u001b[1;31m\u001b[0m",
      "\u001b[1;31mIndexError\u001b[0mTraceback (most recent call last)",
      "\u001b[1;32m<ipython-input-234-cbea1aa1fa3e>\u001b[0m in \u001b[0;36m<module>\u001b[1;34m()\u001b[0m\n\u001b[1;32m----> 1\u001b[1;33m \u001b[0minputsArray\u001b[0m \u001b[1;33m=\u001b[0m \u001b[0mneuralNetwork\u001b[0m\u001b[1;33m.\u001b[0m\u001b[0mbackquery\u001b[0m\u001b[1;33m(\u001b[0m\u001b[0mtargetArray\u001b[0m\u001b[1;33m[\u001b[0m\u001b[1;33m:\u001b[0m\u001b[1;33m,\u001b[0m \u001b[1;36m3\u001b[0m\u001b[1;33m]\u001b[0m\u001b[1;33m)\u001b[0m\u001b[1;33m\u001b[0m\u001b[0m\n\u001b[0m\u001b[0;32m      2\u001b[0m \u001b[0mmatplotlib\u001b[0m\u001b[1;33m.\u001b[0m\u001b[0mpyplot\u001b[0m\u001b[1;33m.\u001b[0m\u001b[0mimshow\u001b[0m\u001b[1;33m(\u001b[0m\u001b[0minputsArray\u001b[0m\u001b[1;33m.\u001b[0m\u001b[0mreshape\u001b[0m\u001b[1;33m(\u001b[0m\u001b[1;36m28\u001b[0m\u001b[1;33m,\u001b[0m \u001b[1;36m28\u001b[0m\u001b[1;33m)\u001b[0m\u001b[1;33m,\u001b[0m \u001b[0mcmap\u001b[0m\u001b[1;33m=\u001b[0m\u001b[1;34m\"Greys\"\u001b[0m\u001b[1;33m,\u001b[0m \u001b[0minterpolation\u001b[0m\u001b[1;33m=\u001b[0m\u001b[1;34m\"None\"\u001b[0m\u001b[1;33m)\u001b[0m\u001b[1;33m\u001b[0m\u001b[0m\n",
      "\u001b[1;31mIndexError\u001b[0m: index 3 is out of bounds for axis 1 with size 2"
     ],
     "output_type": "error"
    }
   ],
   "source": [
    "inputsArray = neuralNetwork.backquery(targetArray[:, 3])\n",
    "matplotlib.pyplot.imshow(inputsArray.reshape(28, 28), cmap=\"Greys\", interpolation=\"None\")\n"
   ]
  },
  {
   "cell_type": "code",
   "execution_count": 235,
   "metadata": {
    "collapsed": true
   },
   "outputs": [
    {
     "ename": "IndexError",
     "evalue": "index 2 is out of bounds for axis 1 with size 2",
     "traceback": [
      "\u001b[1;31m\u001b[0m",
      "\u001b[1;31mIndexError\u001b[0mTraceback (most recent call last)",
      "\u001b[1;32m<ipython-input-235-3fb95bcb444e>\u001b[0m in \u001b[0;36m<module>\u001b[1;34m()\u001b[0m\n\u001b[1;32m----> 1\u001b[1;33m \u001b[0minputsArray\u001b[0m \u001b[1;33m=\u001b[0m \u001b[0mneuralNetwork\u001b[0m\u001b[1;33m.\u001b[0m\u001b[0mbackquery\u001b[0m\u001b[1;33m(\u001b[0m\u001b[0mtargetArray\u001b[0m\u001b[1;33m[\u001b[0m\u001b[1;33m:\u001b[0m\u001b[1;33m,\u001b[0m \u001b[1;36m2\u001b[0m\u001b[1;33m]\u001b[0m\u001b[1;33m)\u001b[0m\u001b[1;33m\u001b[0m\u001b[0m\n\u001b[0m\u001b[0;32m      2\u001b[0m \u001b[0mmatplotlib\u001b[0m\u001b[1;33m.\u001b[0m\u001b[0mpyplot\u001b[0m\u001b[1;33m.\u001b[0m\u001b[0mimshow\u001b[0m\u001b[1;33m(\u001b[0m\u001b[0minputsArray\u001b[0m\u001b[1;33m.\u001b[0m\u001b[0mreshape\u001b[0m\u001b[1;33m(\u001b[0m\u001b[1;36m28\u001b[0m\u001b[1;33m,\u001b[0m \u001b[1;36m28\u001b[0m\u001b[1;33m)\u001b[0m\u001b[1;33m,\u001b[0m \u001b[0mcmap\u001b[0m\u001b[1;33m=\u001b[0m\u001b[1;34m\"Greys\"\u001b[0m\u001b[1;33m,\u001b[0m \u001b[0minterpolation\u001b[0m\u001b[1;33m=\u001b[0m\u001b[1;34m\"None\"\u001b[0m\u001b[1;33m)\u001b[0m\u001b[1;33m\u001b[0m\u001b[0m\n\u001b[0;32m      3\u001b[0m \u001b[1;32mprint\u001b[0m\u001b[1;33m(\u001b[0m\u001b[0minputsArray\u001b[0m\u001b[1;33m)\u001b[0m\u001b[1;33m\u001b[0m\u001b[0m\n",
      "\u001b[1;31mIndexError\u001b[0m: index 2 is out of bounds for axis 1 with size 2"
     ],
     "output_type": "error"
    }
   ],
   "source": [
    "inputsArray = neuralNetwork.backquery(targetArray[:, 2])\n",
    "matplotlib.pyplot.imshow(inputsArray.reshape(28, 28), cmap=\"Greys\", interpolation=\"None\")\n",
    "print(inputsArray)"
   ]
  },
  {
   "cell_type": "code",
   "execution_count": 236,
   "metadata": {},
   "outputs": [
    {
     "ename": "IndexError",
     "evalue": "index 4 is out of bounds for axis 0 with size 2",
     "traceback": [
      "\u001b[1;31m\u001b[0m",
      "\u001b[1;31mIndexError\u001b[0mTraceback (most recent call last)",
      "\u001b[1;32m<ipython-input-236-2e187c366b39>\u001b[0m in \u001b[0;36m<module>\u001b[1;34m()\u001b[0m\n\u001b[1;32m----> 1\u001b[1;33m \u001b[1;32mprint\u001b[0m\u001b[1;33m(\u001b[0m\u001b[0mtargetArray\u001b[0m\u001b[1;33m[\u001b[0m\u001b[1;36m4\u001b[0m\u001b[1;33m,\u001b[0m \u001b[1;33m:\u001b[0m\u001b[1;33m]\u001b[0m\u001b[1;33m)\u001b[0m\u001b[1;33m\u001b[0m\u001b[0m\n\u001b[0m",
      "\u001b[1;31mIndexError\u001b[0m: index 4 is out of bounds for axis 0 with size 2"
     ],
     "output_type": "error"
    }
   ],
   "source": [
    "print(targetArray[4, :])"
   ]
  },
  {
   "cell_type": "code",
   "execution_count": 237,
   "metadata": {},
   "outputs": [
    {
     "name": "stdout",
     "output_type": "stream",
     "text": [
      "[[ 0.55718465]\n [ 0.57872911]\n [ 0.58751125]\n [ 0.5323373 ]\n [ 0.56209972]\n [ 0.5418762 ]\n [ 0.56598222]\n [ 0.52281526]\n [ 0.59250959]\n [ 0.56141371]\n [ 0.58530989]\n [ 0.51193208]\n [ 0.49915791]\n [ 0.51485634]\n [ 0.59193029]\n [ 0.49241396]\n [ 0.55008676]\n [ 0.57310052]\n [ 0.57334471]\n [ 0.55917826]\n [ 0.53749375]\n [ 0.51838895]\n [ 0.58678155]\n [ 0.5942364 ]\n [ 0.51781678]\n [ 0.58257601]\n [ 0.53114161]\n [ 0.52667542]\n [ 0.57415615]\n [ 0.50851839]\n [ 0.5216375 ]\n [ 0.53971016]\n [ 0.55540295]\n [ 0.529228  ]\n [ 0.53823345]\n [ 0.58873448]\n [ 0.5676917 ]\n [ 0.55417905]\n [ 0.59671501]\n [ 0.55518986]\n [ 0.57931224]\n [ 0.55038014]\n [ 0.55907407]\n [ 0.59838045]\n [ 0.54701494]\n [ 0.46670249]\n [ 0.51398791]\n [ 0.55296214]\n [ 0.57001596]\n [ 0.57400974]\n [ 0.52441396]\n [ 0.52407952]\n [ 0.58088933]\n [ 0.55357012]\n [ 0.5248421 ]\n [ 0.56902571]\n [ 0.50570975]\n [ 0.55413374]\n [ 0.53481943]\n [ 0.56614667]\n [ 0.57354372]\n [ 0.57429096]\n [ 0.56040581]\n [ 0.57100352]\n [ 0.56737335]\n [ 0.57581502]\n [ 0.57742448]\n [ 0.58269238]\n [ 0.6396655 ]\n [ 0.57270863]\n [ 0.53671894]\n [ 0.52377737]\n [ 0.46158977]\n [ 0.42164362]\n [ 0.53725573]\n [ 0.61225855]\n [ 0.62558453]\n [ 0.42666421]\n [ 0.46091224]\n [ 0.46011697]\n [ 0.46689535]\n [ 0.50954873]\n [ 0.59987076]\n [ 0.58515155]\n [ 0.56239493]\n [ 0.5337928 ]\n [ 0.5397211 ]\n [ 0.54671111]\n [ 0.50246538]\n [ 0.49737017]\n [ 0.56284215]\n [ 0.53367691]\n [ 0.52053923]\n [ 0.60677402]\n [ 0.62420055]\n [ 0.65916073]\n [ 0.63679102]\n [ 0.63614656]\n [ 0.67682002]\n [ 0.74679379]\n [ 0.68888943]\n [ 0.69101784]\n [ 0.745543  ]\n [ 0.81474833]\n [ 0.59848862]\n [ 0.3970684 ]\n [ 0.48469551]\n [ 0.49817256]\n [ 0.43616226]\n [ 0.4889525 ]\n [ 0.49761319]\n [ 0.57832171]\n [ 0.55846867]\n [ 0.55814511]\n [ 0.54167514]\n [ 0.49868485]\n [ 0.47801991]\n [ 0.43878577]\n [ 0.44872797]\n [ 0.42818633]\n [ 0.5784127 ]\n [ 0.64905463]\n [ 0.68594392]\n [ 0.63448878]\n [ 0.72767292]\n [ 0.77063762]\n [ 0.85544261]\n [ 0.92134375]\n [ 0.82910465]\n [ 0.71602041]\n [ 0.70342506]\n [ 0.72531502]\n [ 0.48318537]\n [ 0.48152233]\n [ 0.60899838]\n [ 0.59625576]\n [ 0.48225086]\n [ 0.50743567]\n [ 0.5979634 ]\n [ 0.58192604]\n [ 0.56331209]\n [ 0.55127173]\n [ 0.555278  ]\n [ 0.47238831]\n [ 0.50168141]\n [ 0.49006642]\n [ 0.48815817]\n [ 0.54320631]\n [ 0.54697952]\n [ 0.58628553]\n [ 0.63549319]\n [ 0.71930435]\n [ 0.75869115]\n [ 0.83374613]\n [ 0.91663952]\n [ 0.92726519]\n [ 0.84796713]\n [ 0.70657095]\n [ 0.6775965 ]\n [ 0.60579823]\n [ 0.4022615 ]\n [ 0.3555359 ]\n [ 0.59165759]\n [ 0.60893294]\n [ 0.54064049]\n [ 0.48826166]\n [ 0.57695838]\n [ 0.56340582]\n [ 0.54189459]\n [ 0.54573548]\n [ 0.51309125]\n [ 0.52079349]\n [ 0.51437619]\n [ 0.52353   ]\n [ 0.46593948]\n [ 0.53202632]\n [ 0.53627865]\n [ 0.59286832]\n [ 0.65462982]\n [ 0.7463897 ]\n [ 0.81176527]\n [ 0.87376285]\n [ 0.78602085]\n [ 0.76549569]\n [ 0.81871676]\n [ 0.7118421 ]\n [ 0.66231002]\n [ 0.48740733]\n [ 0.19476137]\n [ 0.23730208]\n [ 0.57421366]\n [ 0.78023753]\n [ 0.66747039]\n [ 0.58360412]\n [ 0.5824076 ]\n [ 0.56402038]\n [ 0.59626084]\n [ 0.56241172]\n [ 0.4561029 ]\n [ 0.4365515 ]\n [ 0.45567755]\n [ 0.45611186]\n [ 0.54144038]\n [ 0.59884207]\n [ 0.56453204]\n [ 0.52471371]\n [ 0.50561278]\n [ 0.63307561]\n [ 0.72144316]\n [ 0.72963156]\n [ 0.72255313]\n [ 0.70330466]\n [ 0.74402725]\n [ 0.65299717]\n [ 0.62937852]\n [ 0.45378184]\n [ 0.18876655]\n [ 0.29464289]\n [ 0.52176042]\n [ 0.7982446 ]\n [ 0.68484717]\n [ 0.58299113]\n [ 0.57473178]\n [ 0.55508185]\n [ 0.566678  ]\n [ 0.56607414]\n [ 0.48295356]\n [ 0.43157399]\n [ 0.41005249]\n [ 0.4016137 ]\n [ 0.47280058]\n [ 0.50515228]\n [ 0.5855473 ]\n [ 0.4355736 ]\n [ 0.33307709]\n [ 0.55646009]\n [ 0.60294387]\n [ 0.71645548]\n [ 0.71161899]\n [ 0.7329146 ]\n [ 0.79683813]\n [ 0.72114701]\n [ 0.71582988]\n [ 0.5075661 ]\n [ 0.48803498]\n [ 0.54055229]\n [ 0.56138535]\n [ 0.73237197]\n [ 0.72670506]\n [ 0.59130316]\n [ 0.56676855]\n [ 0.55578064]\n [ 0.56966471]\n [ 0.57839726]\n [ 0.53642111]\n [ 0.57569775]\n [ 0.43511284]\n [ 0.37707547]\n [ 0.42660991]\n [ 0.49106094]\n [ 0.50082826]\n [ 0.39170527]\n [ 0.36988117]\n [ 0.541722  ]\n [ 0.5756217 ]\n [ 0.68993978]\n [ 0.78021466]\n [ 0.72680757]\n [ 0.70455479]\n [ 0.72029939]\n [ 0.6167262 ]\n [ 0.47528695]\n [ 0.57975516]\n [ 0.5701853 ]\n [ 0.52036072]\n [ 0.59015478]\n [ 0.62450333]\n [ 0.59775896]\n [ 0.59813401]\n [ 0.56014004]\n [ 0.55090098]\n [ 0.60491011]\n [ 0.55118416]\n [ 0.59864967]\n [ 0.51550414]\n [ 0.47747916]\n [ 0.50787355]\n [ 0.52403581]\n [ 0.51809736]\n [ 0.4666261 ]\n [ 0.5015909 ]\n [ 0.64944585]\n [ 0.63432058]\n [ 0.69973281]\n [ 0.71433879]\n [ 0.6442364 ]\n [ 0.57715488]\n [ 0.47306045]\n [ 0.42898353]\n [ 0.3927713 ]\n [ 0.5428019 ]\n [ 0.50227824]\n [ 0.48726434]\n [ 0.59850196]\n [ 0.64050776]\n [ 0.57378139]\n [ 0.61338915]\n [ 0.55036894]\n [ 0.53737066]\n [ 0.54736468]\n [ 0.52955441]\n [ 0.48940298]\n [ 0.61281964]\n [ 0.58337282]\n [ 0.62585791]\n [ 0.69913281]\n [ 0.64240506]\n [ 0.56034788]\n [ 0.46152725]\n [ 0.62123382]\n [ 0.70431792]\n [ 0.71598857]\n [ 0.69096743]\n [ 0.56738907]\n [ 0.41207543]\n [ 0.22600702]\n [ 0.24166975]\n [ 0.38770898]\n [ 0.59509475]\n [ 0.5468377 ]\n [ 0.61975436]\n [ 0.5744061 ]\n [ 0.54741223]\n [ 0.47944224]\n [ 0.5316662 ]\n [ 0.5427033 ]\n [ 0.57870165]\n [ 0.56004576]\n [ 0.45438618]\n [ 0.45769737]\n [ 0.57006482]\n [ 0.48960175]\n [ 0.50982857]\n [ 0.63012823]\n [ 0.57873666]\n [ 0.50632995]\n [ 0.50273928]\n [ 0.69472891]\n [ 0.64752102]\n [ 0.67420049]\n [ 0.56894602]\n [ 0.37510796]\n [ 0.14317979]\n [ 0.1636844 ]\n [ 0.36269659]\n [ 0.45523096]\n [ 0.64125747]\n [ 0.6179515 ]\n [ 0.59776919]\n [ 0.57338106]\n [ 0.67528357]\n [ 0.45863723]\n [ 0.59934771]\n [ 0.53804383]\n [ 0.55295442]\n [ 0.60035808]\n [ 0.48651849]\n [ 0.5013946 ]\n [ 0.64416372]\n [ 0.51587887]\n [ 0.38149994]\n [ 0.58736266]\n [ 0.60063782]\n [ 0.42649989]\n [ 0.51566126]\n [ 0.4116339 ]\n [ 0.40931531]\n [ 0.30537416]\n [ 0.23224139]\n [ 0.05009669]\n [ 0.01      ]\n [ 0.17637355]\n [ 0.41134091]\n [ 0.55755872]\n [ 0.64838632]\n [ 0.63229008]\n [ 0.62814625]\n [ 0.57527624]\n [ 0.64000603]\n [ 0.46362084]\n [ 0.57187074]\n [ 0.58853294]\n [ 0.56879474]\n [ 0.625037  ]\n [ 0.50631302]\n [ 0.58177716]\n [ 0.6166753 ]\n [ 0.51806323]\n [ 0.47926345]\n [ 0.6190848 ]\n [ 0.70728882]\n [ 0.48758918]\n [ 0.3840647 ]\n [ 0.25845063]\n [ 0.23785279]\n [ 0.25071951]\n [ 0.19040241]\n [ 0.20595291]\n [ 0.26597125]\n [ 0.33671095]\n [ 0.4374632 ]\n [ 0.55027138]\n [ 0.5220025 ]\n [ 0.52030609]\n [ 0.51763149]\n [ 0.49349543]\n [ 0.43808824]\n [ 0.39339627]\n [ 0.60517214]\n [ 0.59052604]\n [ 0.5774162 ]\n [ 0.56134799]\n [ 0.50920788]\n [ 0.53316677]\n [ 0.52064941]\n [ 0.5188362 ]\n [ 0.62780008]\n [ 0.68563424]\n [ 0.69593077]\n [ 0.55322038]\n [ 0.48243839]\n [ 0.46719168]\n [ 0.40585289]\n [ 0.40503779]\n [ 0.55734801]\n [ 0.57311725]\n [ 0.52406689]\n [ 0.50154087]\n [ 0.55976609]\n [ 0.51692053]\n [ 0.45769607]\n [ 0.39387761]\n [ 0.66026811]\n [ 0.58287946]\n [ 0.50691929]\n [ 0.48599737]\n [ 0.60033123]\n [ 0.48852142]\n [ 0.59739776]\n [ 0.55664726]\n [ 0.42756904]\n [ 0.52409663]\n [ 0.45519593]\n [ 0.47565377]\n [ 0.51814   ]\n [ 0.54701622]\n [ 0.53430284]\n [ 0.48724902]\n [ 0.49640143]\n [ 0.52473314]\n [ 0.53660257]\n [ 0.58003272]\n [ 0.66146737]\n [ 0.73097206]\n [ 0.72906937]\n [ 0.5511617 ]\n [ 0.56182286]\n [ 0.60761385]\n [ 0.48373591]\n [ 0.49003076]\n [ 0.62314554]\n [ 0.61983148]\n [ 0.54551854]\n [ 0.55637109]\n [ 0.58173695]\n [ 0.56228241]\n [ 0.54414488]\n [ 0.56274967]\n [ 0.48737538]\n [ 0.67754736]\n [ 0.60425407]\n [ 0.49574505]\n [ 0.5663134 ]\n [ 0.54132316]\n [ 0.46245141]\n [ 0.48974971]\n [ 0.45269116]\n [ 0.37572654]\n [ 0.47501983]\n [ 0.61211979]\n [ 0.63687078]\n [ 0.73131158]\n [ 0.64732341]\n [ 0.52107474]\n [ 0.4801717 ]\n [ 0.45139334]\n [ 0.43931538]\n [ 0.40563339]\n [ 0.51666637]\n [ 0.55028152]\n [ 0.34704577]\n [ 0.44864973]\n [ 0.54368028]\n [ 0.55796174]\n [ 0.59976759]\n [ 0.54288488]\n [ 0.48960413]\n [ 0.66334153]\n [ 0.6538261 ]\n [ 0.62553689]\n [ 0.51404671]\n [ 0.44563291]\n [ 0.53048638]\n [ 0.61219339]\n [ 0.71075003]\n [ 0.73889198]\n [ 0.77350677]\n [ 0.76678717]\n [ 0.71850556]\n [ 0.65296053]\n [ 0.64704094]\n [ 0.57304399]\n [ 0.55092557]\n [ 0.45181139]\n [ 0.39663421]\n [ 0.32979954]\n [ 0.47504031]\n [ 0.46513801]\n [ 0.37571246]\n [ 0.49641103]\n [ 0.59506248]\n [ 0.57487489]\n [ 0.56578598]\n [ 0.59391923]\n [ 0.48987117]\n [ 0.55441518]\n [ 0.58460868]\n [ 0.56981953]\n [ 0.44316331]\n [ 0.4101082 ]\n [ 0.45931314]\n [ 0.68932201]\n [ 0.88861102]\n [ 0.85649244]\n [ 0.79585182]\n [ 0.77070045]\n [ 0.84564039]\n [ 0.88537978]\n [ 0.78718187]\n [ 0.75034568]\n [ 0.65128999]\n [ 0.49305296]\n [ 0.48671041]\n [ 0.4649803 ]\n [ 0.49196208]\n [ 0.53131074]\n [ 0.5190959 ]\n [ 0.57343628]\n [ 0.6024588 ]\n [ 0.58682541]\n [ 0.51450078]\n [ 0.52771456]\n [ 0.49197508]\n [ 0.43462606]\n [ 0.43438919]\n [ 0.5933266 ]\n [ 0.50082139]\n [ 0.39319392]\n [ 0.52505154]\n [ 0.60702637]\n [ 0.72147506]\n [ 0.88027786]\n [ 0.89060924]\n [ 0.9525389 ]\n [ 0.91427557]\n [ 0.83383258]\n [ 0.68342805]\n [ 0.61133614]\n [ 0.56247614]\n [ 0.5685763 ]\n [ 0.56562708]\n [ 0.51219399]\n [ 0.55768784]\n [ 0.45217123]\n [ 0.56232541]\n [ 0.59388648]\n [ 0.56913932]\n [ 0.555197  ]\n [ 0.55831659]\n [ 0.56193069]\n [ 0.40564202]\n [ 0.26178995]\n [ 0.37771582]\n [ 0.55579022]\n [ 0.47670999]\n [ 0.30161879]\n [ 0.44911555]\n [ 0.46234955]\n [ 0.70521603]\n [ 0.90570083]\n [ 0.96050066]\n [ 0.96686912]\n [ 0.90505098]\n [ 0.75525627]\n [ 0.59262877]\n [ 0.70439758]\n [ 0.7062249 ]\n [ 0.65192047]\n [ 0.63168576]\n [ 0.60503259]\n [ 0.61232733]\n [ 0.53150778]\n [ 0.54897638]\n [ 0.5816681 ]\n [ 0.51334385]\n [ 0.51825095]\n [ 0.56447861]\n [ 0.57957528]\n [ 0.36546365]\n [ 0.2142655 ]\n [ 0.20321852]\n [ 0.44259067]\n [ 0.41622087]\n [ 0.43663699]\n [ 0.55973283]\n [ 0.61847106]\n [ 0.72720386]\n [ 0.86328814]\n [ 0.86748304]\n [ 0.85159625]\n [ 0.79812302]\n [ 0.77036054]\n [ 0.73055722]\n [ 0.77755949]\n [ 0.73418502]\n [ 0.64806934]\n [ 0.54766805]\n [ 0.6076724 ]\n [ 0.63437481]\n [ 0.5338773 ]\n [ 0.56376016]\n [ 0.57213369]\n [ 0.54748562]\n [ 0.54576487]\n [ 0.56702328]\n [ 0.55432099]\n [ 0.36953751]\n [ 0.20703051]\n [ 0.29255779]\n [ 0.46639711]\n [ 0.41258045]\n [ 0.49501706]\n [ 0.57196267]\n [ 0.68758773]\n [ 0.84258228]\n [ 0.85935874]\n [ 0.87581542]\n [ 0.98533971]\n [ 0.93070404]\n [ 0.90077207]\n [ 0.77476856]\n [ 0.77563666]\n [ 0.63541869]\n [ 0.58064572]\n [ 0.56198397]\n [ 0.53546461]\n [ 0.57563568]\n [ 0.52800161]\n [ 0.51209232]\n [ 0.53277124]\n [ 0.53139623]\n [ 0.52095769]\n [ 0.5597764 ]\n [ 0.53741066]\n [ 0.37799706]\n [ 0.27441361]\n [ 0.28906239]\n [ 0.44862672]\n [ 0.34133765]\n [ 0.38466498]\n [ 0.54932772]\n [ 0.74146902]\n [ 0.80241364]\n [ 0.89898628]\n [ 0.91962651]\n [ 0.99      ]\n [ 0.92246424]\n [ 0.87267948]\n [ 0.75179188]\n [ 0.79361192]\n [ 0.66842756]\n [ 0.62288019]\n [ 0.53378453]\n [ 0.4880007 ]\n [ 0.56365329]\n [ 0.53177835]\n [ 0.55640125]\n [ 0.58524814]\n [ 0.56088314]\n [ 0.52436765]\n [ 0.58937627]\n [ 0.55932769]\n [ 0.51560574]\n [ 0.35527277]\n [ 0.33171544]\n [ 0.4746955 ]\n [ 0.46193382]\n [ 0.49629063]\n [ 0.52449319]\n [ 0.64155341]\n [ 0.64090301]\n [ 0.68662836]\n [ 0.6980746 ]\n [ 0.71346071]\n [ 0.73502474]\n [ 0.65573153]\n [ 0.61660041]\n [ 0.56821412]\n [ 0.57409295]\n [ 0.54009343]\n [ 0.52888652]\n [ 0.50175776]\n [ 0.55896393]\n [ 0.55674301]\n [ 0.56431559]\n [ 0.55016315]\n [ 0.56845312]\n [ 0.54122876]\n [ 0.52082984]\n [ 0.49198319]\n [ 0.53539543]\n [ 0.53953023]\n [ 0.53452721]\n [ 0.56177144]\n [ 0.56214128]\n [ 0.50581983]\n [ 0.53642139]\n [ 0.52342029]\n [ 0.55295034]\n [ 0.53936508]\n [ 0.58496237]\n [ 0.5570534 ]\n [ 0.5171167 ]\n [ 0.56326328]\n [ 0.5575079 ]\n [ 0.56495754]\n [ 0.56387933]\n [ 0.548009  ]\n [ 0.50692924]\n [ 0.57450751]\n [ 0.5573344 ]\n [ 0.53468692]\n [ 0.56119289]\n [ 0.57711306]\n [ 0.55766285]\n [ 0.57792167]\n [ 0.55878536]\n [ 0.52745208]\n [ 0.56418191]\n [ 0.55671752]\n [ 0.53828755]\n [ 0.53843942]\n [ 0.58478622]\n [ 0.54346839]\n [ 0.51464873]\n [ 0.5587984 ]\n [ 0.4994631 ]\n [ 0.55405047]\n [ 0.60697921]\n [ 0.56085832]\n [ 0.56968971]\n [ 0.52885765]\n [ 0.59903744]\n [ 0.54262233]\n [ 0.53152085]\n [ 0.53183516]\n [ 0.54065148]\n [ 0.58313762]\n [ 0.52364613]\n [ 0.59799164]\n [ 0.58268694]\n [ 0.55352771]\n [ 0.51451195]\n [ 0.59658197]]\n"
     ]
    }
   ],
   "source": [
    "print(inputsArray)"
   ]
  },
  {
   "cell_type": "code",
   "execution_count": 238,
   "metadata": {},
   "outputs": [],
   "source": []
  }
 ],
 "metadata": {
  "kernelspec": {
   "display_name": "Python 2",
   "language": "python",
   "name": "python2"
  },
  "language_info": {
   "codemirror_mode": {
    "name": "ipython",
    "version": 2
   },
   "file_extension": ".py",
   "mimetype": "text/x-python",
   "name": "python",
   "nbconvert_exporter": "python",
   "pygments_lexer": "ipython2",
   "version": "2.7.6"
  }
 },
 "nbformat": 4,
 "nbformat_minor": 0
}
